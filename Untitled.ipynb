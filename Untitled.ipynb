{
 "cells": [
  {
   "cell_type": "code",
   "execution_count": 1,
   "id": "7f3f6fee-4758-4885-bbf7-50a66f6ade59",
   "metadata": {},
   "outputs": [
    {
     "ename": "ModuleNotFoundError",
     "evalue": "No module named 'pydantic'",
     "output_type": "error",
     "traceback": [
      "\u001b[0;31m---------------------------------------------------------------------------\u001b[0m",
      "\u001b[0;31mModuleNotFoundError\u001b[0m                       Traceback (most recent call last)",
      "\u001b[0;32m/var/folders/g5/l8n_9nts18bcbxyx73_689pr0000gn/T/ipykernel_95364/3748162316.py\u001b[0m in \u001b[0;36m<module>\u001b[0;34m\u001b[0m\n\u001b[0;32m----> 1\u001b[0;31m \u001b[0;32mfrom\u001b[0m \u001b[0mlandingai\u001b[0m\u001b[0;34m.\u001b[0m\u001b[0mdata_management\u001b[0m \u001b[0;32mimport\u001b[0m \u001b[0mMedia\u001b[0m\u001b[0;34m\u001b[0m\u001b[0;34m\u001b[0m\u001b[0m\n\u001b[0m",
      "\u001b[0;32m~/Code/landing/landingai-python/landingai/data_management/__init__.py\u001b[0m in \u001b[0;36m<module>\u001b[0;34m\u001b[0m\n\u001b[0;32m----> 1\u001b[0;31m \u001b[0;32mfrom\u001b[0m \u001b[0;34m.\u001b[0m\u001b[0mmedia\u001b[0m \u001b[0;32mimport\u001b[0m \u001b[0mMedia\u001b[0m  \u001b[0;31m# noqa\u001b[0m\u001b[0;34m\u001b[0m\u001b[0;34m\u001b[0m\u001b[0m\n\u001b[0m\u001b[1;32m      2\u001b[0m \u001b[0;32mfrom\u001b[0m \u001b[0;34m.\u001b[0m\u001b[0mmetadata\u001b[0m \u001b[0;32mimport\u001b[0m \u001b[0mMetadata\u001b[0m  \u001b[0;31m# noqa\u001b[0m\u001b[0;34m\u001b[0m\u001b[0;34m\u001b[0m\u001b[0m\n",
      "\u001b[0;32m~/Code/landing/landingai-python/landingai/data_management/media.py\u001b[0m in \u001b[0;36m<module>\u001b[0;34m\u001b[0m\n\u001b[1;32m     18\u001b[0m \u001b[0;32mfrom\u001b[0m \u001b[0mtqdm\u001b[0m \u001b[0;32mimport\u001b[0m \u001b[0mtqdm\u001b[0m\u001b[0;34m\u001b[0m\u001b[0;34m\u001b[0m\u001b[0m\n\u001b[1;32m     19\u001b[0m \u001b[0;34m\u001b[0m\u001b[0m\n\u001b[0;32m---> 20\u001b[0;31m from landingai.data_management.client import (\n\u001b[0m\u001b[1;32m     21\u001b[0m     \u001b[0mGET_PROJECT_SPLIT\u001b[0m\u001b[0;34m,\u001b[0m\u001b[0;34m\u001b[0m\u001b[0;34m\u001b[0m\u001b[0m\n\u001b[1;32m     22\u001b[0m     \u001b[0mMEDIA_LIST\u001b[0m\u001b[0;34m,\u001b[0m\u001b[0;34m\u001b[0m\u001b[0;34m\u001b[0m\u001b[0m\n",
      "\u001b[0;32m~/Code/landing/landingai-python/landingai/data_management/client.py\u001b[0m in \u001b[0;36m<module>\u001b[0;34m\u001b[0m\n\u001b[1;32m     13\u001b[0m \u001b[0;32mfrom\u001b[0m \u001b[0mlandingai\u001b[0m\u001b[0;34m.\u001b[0m\u001b[0mdata_management\u001b[0m\u001b[0;34m.\u001b[0m\u001b[0mutils\u001b[0m \u001b[0;32mimport\u001b[0m \u001b[0mto_camel_case\u001b[0m\u001b[0;34m\u001b[0m\u001b[0;34m\u001b[0m\u001b[0m\n\u001b[1;32m     14\u001b[0m \u001b[0;32mfrom\u001b[0m \u001b[0mlandingai\u001b[0m\u001b[0;34m.\u001b[0m\u001b[0mexceptions\u001b[0m \u001b[0;32mimport\u001b[0m \u001b[0mHttpError\u001b[0m\u001b[0;34m\u001b[0m\u001b[0;34m\u001b[0m\u001b[0m\n\u001b[0;32m---> 15\u001b[0;31m \u001b[0;32mfrom\u001b[0m \u001b[0mlandingai\u001b[0m\u001b[0;34m.\u001b[0m\u001b[0mutils\u001b[0m \u001b[0;32mimport\u001b[0m \u001b[0mload_api_credential\u001b[0m\u001b[0;34m\u001b[0m\u001b[0;34m\u001b[0m\u001b[0m\n\u001b[0m\u001b[1;32m     16\u001b[0m \u001b[0;34m\u001b[0m\u001b[0m\n\u001b[1;32m     17\u001b[0m \u001b[0mMETADATA_ITEMS\u001b[0m \u001b[0;34m=\u001b[0m \u001b[0;34m\"metadata_items\"\u001b[0m\u001b[0;34m\u001b[0m\u001b[0;34m\u001b[0m\u001b[0m\n",
      "\u001b[0;32m~/Code/landing/landingai-python/landingai/utils.py\u001b[0m in \u001b[0;36m<module>\u001b[0;34m\u001b[0m\n\u001b[1;32m      7\u001b[0m \u001b[0;32mimport\u001b[0m \u001b[0mnumpy\u001b[0m \u001b[0;32mas\u001b[0m \u001b[0mnp\u001b[0m\u001b[0;34m\u001b[0m\u001b[0;34m\u001b[0m\u001b[0m\n\u001b[1;32m      8\u001b[0m \u001b[0;32mimport\u001b[0m \u001b[0mPIL\u001b[0m\u001b[0;34m.\u001b[0m\u001b[0mImage\u001b[0m\u001b[0;34m\u001b[0m\u001b[0;34m\u001b[0m\u001b[0m\n\u001b[0;32m----> 9\u001b[0;31m \u001b[0;32mfrom\u001b[0m \u001b[0mpydantic\u001b[0m \u001b[0;32mimport\u001b[0m \u001b[0mValidationError\u001b[0m\u001b[0;34m\u001b[0m\u001b[0;34m\u001b[0m\u001b[0m\n\u001b[0m\u001b[1;32m     10\u001b[0m \u001b[0;34m\u001b[0m\u001b[0m\n\u001b[1;32m     11\u001b[0m \u001b[0;32mfrom\u001b[0m \u001b[0mlandingai\u001b[0m\u001b[0;34m.\u001b[0m\u001b[0mcommon\u001b[0m \u001b[0;32mimport\u001b[0m \u001b[0mAPIKey\u001b[0m\u001b[0;34m\u001b[0m\u001b[0;34m\u001b[0m\u001b[0m\n",
      "\u001b[0;31mModuleNotFoundError\u001b[0m: No module named 'pydantic'"
     ]
    }
   ],
   "source": [
    "from landingai.data_management import Media"
   ]
  },
  {
   "cell_type": "code",
   "execution_count": 2,
   "id": "c80e424c-3497-400a-8d00-594ef7a77061",
   "metadata": {},
   "outputs": [
    {
     "name": "stdout",
     "output_type": "stream",
     "text": [
      "Collecting pydantic\n",
      "  Downloading pydantic-2.6.0-py3-none-any.whl (394 kB)\n",
      "\u001b[K     |████████████████████████████████| 394 kB 799 kB/s eta 0:00:01\n",
      "\u001b[?25hCollecting typing-extensions>=4.6.1\n",
      "  Downloading typing_extensions-4.9.0-py3-none-any.whl (32 kB)\n",
      "Collecting pydantic-core==2.16.1\n",
      "  Downloading pydantic_core-2.16.1-cp39-cp39-macosx_10_12_x86_64.whl (1.9 MB)\n",
      "\u001b[K     |████████████████████████████████| 1.9 MB 6.9 MB/s eta 0:00:01\n",
      "\u001b[?25hCollecting annotated-types>=0.4.0\n",
      "  Downloading annotated_types-0.6.0-py3-none-any.whl (12 kB)\n",
      "Installing collected packages: typing-extensions, pydantic-core, annotated-types, pydantic\n",
      "  Attempting uninstall: typing-extensions\n",
      "    Found existing installation: typing-extensions 3.10.0.2\n",
      "    Uninstalling typing-extensions-3.10.0.2:\n",
      "      Successfully uninstalled typing-extensions-3.10.0.2\n",
      "Successfully installed annotated-types-0.6.0 pydantic-2.6.0 pydantic-core-2.16.1 typing-extensions-4.9.0\n"
     ]
    }
   ],
   "source": [
    "!pip install pydantic"
   ]
  },
  {
   "cell_type": "code",
   "execution_count": 3,
   "id": "44b7be69-e0ed-4418-94cb-4e6066c5025f",
   "metadata": {},
   "outputs": [
    {
     "name": "stdout",
     "output_type": "stream",
     "text": [
      "Collecting landingai\n",
      "  Downloading landingai-0.3.28-py3-none-any.whl (1.0 MB)\n",
      "\u001b[K     |████████████████████████████████| 1.0 MB 883 kB/s eta 0:00:01\n",
      "\u001b[?25hCollecting bbox-visualizer<0.2.0,>=0.1.0\n",
      "  Downloading bbox_visualizer-0.1.0-py2.py3-none-any.whl (6.2 kB)\n",
      "Collecting aiofiles<1.0.0,>=0.7.0\n",
      "  Downloading aiofiles-0.8.0-py3-none-any.whl (13 kB)\n",
      "Collecting pydantic[dotenv]<2.0.0,>=1.0.0\n",
      "  Downloading pydantic-1.10.14-cp39-cp39-macosx_10_9_x86_64.whl (2.9 MB)\n",
      "\u001b[K     |████████████████████████████████| 2.9 MB 4.4 MB/s eta 0:00:01\n",
      "\u001b[?25hCollecting opencv-python<5.0,>=4.5\n",
      "  Downloading opencv_python-4.9.0.80-cp37-abi3-macosx_10_16_x86_64.whl (55.7 MB)\n",
      "\u001b[K     |████████████████████████████████| 55.7 MB 24.9 MB/s eta 0:00:01\n",
      "\u001b[?25hCollecting pandas==2.0\n",
      "  Downloading pandas-2.0.0-cp39-cp39-macosx_10_9_x86_64.whl (11.8 MB)\n",
      "\u001b[K     |████████████████████████████████| 11.8 MB 12.8 MB/s eta 0:00:01\n",
      "\u001b[?25hCollecting segmentation-mask-overlay<0.4.0,>=0.3.4\n",
      "  Downloading segmentation_mask_overlay-0.3.4-py3-none-any.whl (276 kB)\n",
      "\u001b[K     |████████████████████████████████| 276 kB 3.8 MB/s eta 0:00:01\n",
      "\u001b[?25hRequirement already satisfied: tqdm<5.0.0,>=4.64.0 in /Users/mingruizhang-landing/opt/anaconda3/lib/python3.9/site-packages (from landingai) (4.64.1)\n",
      "Collecting pillow<10.0.0,>=9.0.0\n",
      "  Downloading Pillow-9.5.0-cp39-cp39-macosx_10_10_x86_64.whl (3.4 MB)\n",
      "\u001b[K     |████████████████████████████████| 3.4 MB 1.4 MB/s eta 0:00:01\n",
      "\u001b[?25hRequirement already satisfied: imageio[ffmpeg]<3.0.0,>=2.0.0 in /Users/mingruizhang-landing/opt/anaconda3/lib/python3.9/site-packages (from landingai) (2.9.0)\n",
      "Collecting numpy<2.0.0,>=1.21.0\n",
      "  Downloading numpy-1.26.3-cp39-cp39-macosx_10_9_x86_64.whl (20.6 MB)\n",
      "\u001b[K     |████████████████████████████████| 20.6 MB 2.1 MB/s eta 0:00:011\n",
      "\u001b[?25hRequirement already satisfied: requests<3.0.0,>=2.0.0 in /Users/mingruizhang-landing/opt/anaconda3/lib/python3.9/site-packages (from landingai) (2.31.0)\n",
      "Requirement already satisfied: aiohttp[speedups]<4.0.0,>=3.7.3 in /Users/mingruizhang-landing/opt/anaconda3/lib/python3.9/site-packages (from landingai) (3.7.4.post0)\n",
      "Collecting ruff<0.2.0,>=0.1.8\n",
      "  Downloading ruff-0.1.15-py3-none-macosx_10_12_x86_64.whl (7.3 MB)\n",
      "\u001b[K     |████████████████████████████████| 7.3 MB 17.1 MB/s eta 0:00:01\n",
      "\u001b[?25hCollecting tenacity<9.0.0,>=8.2.3\n",
      "  Downloading tenacity-8.2.3-py3-none-any.whl (24 kB)\n",
      "Requirement already satisfied: pytz>=2020.1 in /Users/mingruizhang-landing/opt/anaconda3/lib/python3.9/site-packages (from pandas==2.0->landingai) (2021.3)\n",
      "Collecting tzdata>=2022.1\n",
      "  Downloading tzdata-2023.4-py2.py3-none-any.whl (346 kB)\n",
      "\u001b[K     |████████████████████████████████| 346 kB 13.3 MB/s eta 0:00:01\n",
      "\u001b[?25hRequirement already satisfied: python-dateutil>=2.8.2 in /Users/mingruizhang-landing/opt/anaconda3/lib/python3.9/site-packages (from pandas==2.0->landingai) (2.8.2)\n",
      "Requirement already satisfied: async-timeout<4.0,>=3.0 in /Users/mingruizhang-landing/opt/anaconda3/lib/python3.9/site-packages (from aiohttp[speedups]<4.0.0,>=3.7.3->landingai) (3.0.1)\n",
      "Requirement already satisfied: yarl<2.0,>=1.0 in /Users/mingruizhang-landing/opt/anaconda3/lib/python3.9/site-packages (from aiohttp[speedups]<4.0.0,>=3.7.3->landingai) (1.9.2)\n",
      "Requirement already satisfied: chardet<5.0,>=2.0 in /Users/mingruizhang-landing/opt/anaconda3/lib/python3.9/site-packages (from aiohttp[speedups]<4.0.0,>=3.7.3->landingai) (3.0.4)\n",
      "Requirement already satisfied: typing-extensions>=3.6.5 in /Users/mingruizhang-landing/opt/anaconda3/lib/python3.9/site-packages (from aiohttp[speedups]<4.0.0,>=3.7.3->landingai) (4.9.0)\n",
      "Requirement already satisfied: multidict<7.0,>=4.5 in /Users/mingruizhang-landing/opt/anaconda3/lib/python3.9/site-packages (from aiohttp[speedups]<4.0.0,>=3.7.3->landingai) (6.0.4)\n",
      "Requirement already satisfied: attrs>=17.3.0 in /Users/mingruizhang-landing/opt/anaconda3/lib/python3.9/site-packages (from aiohttp[speedups]<4.0.0,>=3.7.3->landingai) (23.1.0)\n",
      "Requirement already satisfied: brotlipy in /Users/mingruizhang-landing/opt/anaconda3/lib/python3.9/site-packages (from aiohttp[speedups]<4.0.0,>=3.7.3->landingai) (0.7.0)\n",
      "Requirement already satisfied: aiodns in /Users/mingruizhang-landing/opt/anaconda3/lib/python3.9/site-packages (from aiohttp[speedups]<4.0.0,>=3.7.3->landingai) (3.0.0)\n",
      "Requirement already satisfied: cchardet in /Users/mingruizhang-landing/opt/anaconda3/lib/python3.9/site-packages (from aiohttp[speedups]<4.0.0,>=3.7.3->landingai) (2.1.7)\n",
      "Collecting imageio-ffmpeg\n",
      "  Downloading imageio_ffmpeg-0.4.9-py3-none-macosx_10_9_intel.macosx_10_9_x86_64.macosx_10_10_intel.macosx_10_10_x86_64.whl (22.5 MB)\n",
      "\u001b[K     |████████████████████████████████| 22.5 MB 34.9 MB/s eta 0:00:01\n",
      "\u001b[?25hCollecting python-dotenv>=0.10.4\n",
      "  Downloading python_dotenv-1.0.1-py3-none-any.whl (19 kB)\n",
      "Requirement already satisfied: six>=1.5 in /Users/mingruizhang-landing/opt/anaconda3/lib/python3.9/site-packages (from python-dateutil>=2.8.2->pandas==2.0->landingai) (1.16.0)\n",
      "Requirement already satisfied: urllib3<3,>=1.21.1 in /Users/mingruizhang-landing/opt/anaconda3/lib/python3.9/site-packages (from requests<3.0.0,>=2.0.0->landingai) (1.26.16)\n",
      "Requirement already satisfied: idna<4,>=2.5 in /Users/mingruizhang-landing/opt/anaconda3/lib/python3.9/site-packages (from requests<3.0.0,>=2.0.0->landingai) (2.10)\n",
      "Requirement already satisfied: certifi>=2017.4.17 in /Users/mingruizhang-landing/opt/anaconda3/lib/python3.9/site-packages (from requests<3.0.0,>=2.0.0->landingai) (2021.10.8)\n",
      "Requirement already satisfied: charset-normalizer<4,>=2 in /Users/mingruizhang-landing/opt/anaconda3/lib/python3.9/site-packages (from requests<3.0.0,>=2.0.0->landingai) (2.0.4)\n",
      "Requirement already satisfied: matplotlib>=3.4.2 in /Users/mingruizhang-landing/opt/anaconda3/lib/python3.9/site-packages (from segmentation-mask-overlay<0.4.0,>=0.3.4->landingai) (3.4.3)\n",
      "Requirement already satisfied: opencv-python-headless>=4.5.3 in /Users/mingruizhang-landing/opt/anaconda3/lib/python3.9/site-packages (from segmentation-mask-overlay<0.4.0,>=0.3.4->landingai) (4.6.0.66)\n",
      "Requirement already satisfied: pyparsing>=2.2.1 in /Users/mingruizhang-landing/opt/anaconda3/lib/python3.9/site-packages (from matplotlib>=3.4.2->segmentation-mask-overlay<0.4.0,>=0.3.4->landingai) (3.0.4)\n",
      "Requirement already satisfied: kiwisolver>=1.0.1 in /Users/mingruizhang-landing/opt/anaconda3/lib/python3.9/site-packages (from matplotlib>=3.4.2->segmentation-mask-overlay<0.4.0,>=0.3.4->landingai) (1.3.1)\n",
      "Requirement already satisfied: cycler>=0.10 in /Users/mingruizhang-landing/opt/anaconda3/lib/python3.9/site-packages (from matplotlib>=3.4.2->segmentation-mask-overlay<0.4.0,>=0.3.4->landingai) (0.10.0)\n",
      "Requirement already satisfied: pycares>=4.0.0 in /Users/mingruizhang-landing/opt/anaconda3/lib/python3.9/site-packages (from aiodns->aiohttp[speedups]<4.0.0,>=3.7.3->landingai) (4.3.0)\n",
      "Requirement already satisfied: cffi>=1.5.0 in /Users/mingruizhang-landing/opt/anaconda3/lib/python3.9/site-packages (from pycares>=4.0.0->aiodns->aiohttp[speedups]<4.0.0,>=3.7.3->landingai) (1.14.6)\n",
      "Requirement already satisfied: pycparser in /Users/mingruizhang-landing/opt/anaconda3/lib/python3.9/site-packages (from cffi>=1.5.0->pycares>=4.0.0->aiodns->aiohttp[speedups]<4.0.0,>=3.7.3->landingai) (2.20)\n",
      "Requirement already satisfied: setuptools in /Users/mingruizhang-landing/opt/anaconda3/lib/python3.9/site-packages (from imageio-ffmpeg->imageio[ffmpeg]<3.0.0,>=2.0.0->landingai) (58.0.4)\n",
      "Installing collected packages: pillow, numpy, tzdata, python-dotenv, pydantic, imageio-ffmpeg, tenacity, segmentation-mask-overlay, ruff, pandas, opencv-python, bbox-visualizer, aiofiles, landingai\n",
      "  Attempting uninstall: pillow\n",
      "    Found existing installation: Pillow 8.4.0\n",
      "    Uninstalling Pillow-8.4.0:\n",
      "      Successfully uninstalled Pillow-8.4.0\n",
      "  Attempting uninstall: numpy\n",
      "    Found existing installation: numpy 1.20.3\n",
      "    Uninstalling numpy-1.20.3:\n",
      "      Successfully uninstalled numpy-1.20.3\n",
      "  Attempting uninstall: pydantic\n",
      "    Found existing installation: pydantic 2.6.0\n",
      "    Uninstalling pydantic-2.6.0:\n",
      "      Successfully uninstalled pydantic-2.6.0\n",
      "  Attempting uninstall: pandas\n",
      "    Found existing installation: pandas 1.3.4\n",
      "    Uninstalling pandas-1.3.4:\n",
      "      Successfully uninstalled pandas-1.3.4\n",
      "  Attempting uninstall: aiofiles\n",
      "    Found existing installation: aiofiles 0.6.0\n",
      "    Uninstalling aiofiles-0.6.0:\n",
      "      Successfully uninstalled aiofiles-0.6.0\n",
      "\u001b[31mERROR: pip's dependency resolver does not currently take into account all the packages that are installed. This behaviour is the source of the following dependency conflicts.\n",
      "daal4py 2021.3.0 requires daal==2021.2.3, which is not installed.\n",
      "scipy 1.7.1 requires numpy<1.23.0,>=1.16.5, but you have numpy 1.26.3 which is incompatible.\n",
      "numba 0.54.1 requires numpy<1.21,>=1.17, but you have numpy 1.26.3 which is incompatible.\n",
      "landinglens 1.4.0 requires aiofiles~=0.6.0, but you have aiofiles 0.8.0 which is incompatible.\n",
      "landinglens 1.4.0 requires requests~=2.24.0, but you have requests 2.31.0 which is incompatible.\u001b[0m\n",
      "Successfully installed aiofiles-0.8.0 bbox-visualizer-0.1.0 imageio-ffmpeg-0.4.9 landingai-0.3.28 numpy-1.26.3 opencv-python-4.9.0.80 pandas-2.0.0 pillow-9.5.0 pydantic-1.10.14 python-dotenv-1.0.1 ruff-0.1.15 segmentation-mask-overlay-0.3.4 tenacity-8.2.3 tzdata-2023.4\n",
      "Note: you may need to restart the kernel to use updated packages.\n"
     ]
    }
   ],
   "source": [
    "pip install landingai"
   ]
  },
  {
   "cell_type": "code",
   "execution_count": 1,
   "id": "defc5592-0a4a-480c-a40f-3befcffe71fc",
   "metadata": {},
   "outputs": [],
   "source": [
    "from landingai.data_management import Media"
   ]
  },
  {
   "cell_type": "code",
   "execution_count": 2,
   "id": "f5220042-cf44-45e5-8da6-0fe2f80ba545",
   "metadata": {},
   "outputs": [],
   "source": [
    "YOUR_API_KEY = \"land_sk_JfX8i7SWVEAlFFUkA8cnBzV7hSbK2Nhk2gvQhh2rLYP2td9hU5\""
   ]
  },
  {
   "cell_type": "code",
   "execution_count": 3,
   "id": "7be7e78c-4831-4eeb-ae39-7a9070617e60",
   "metadata": {},
   "outputs": [],
   "source": [
    "YOUR_PROJECT_ID = 65222740060172"
   ]
  },
  {
   "cell_type": "code",
   "execution_count": null,
   "id": "73edee63-b5f8-4691-9d17-e176a2600ee2",
   "metadata": {},
   "outputs": [],
   "source": []
  },
  {
   "cell_type": "code",
   "execution_count": 4,
   "id": "a1fa80a2-31b6-4467-b802-1ab8c7adfe6e",
   "metadata": {},
   "outputs": [],
   "source": [
    "media_client = Media(YOUR_PROJECT_ID, YOUR_API_KEY)"
   ]
  },
  {
   "cell_type": "code",
   "execution_count": 5,
   "id": "d0c570d2-bb27-4df3-a35b-45a31b1384e0",
   "metadata": {},
   "outputs": [
    {
     "data": {
      "text/plain": [
       "{'medias': [{'id': 12147974,\n",
       "   'mediaType': 'image',\n",
       "   'srcType': 'user',\n",
       "   'srcName': 'Mingrui1',\n",
       "   'properties': {'width': 1920, 'height': 1080},\n",
       "   'name': '2023-10-03T00-38-38-042Z-2023-10-03T00:38:21_138Z_WebcamCaptured.jpeg',\n",
       "   'uploadTime': '2024-01-12T21:36:22.477Z',\n",
       "   'mediaStatus': 'approved'},\n",
       "  {'id': 12147973,\n",
       "   'mediaType': 'image',\n",
       "   'srcType': 'user',\n",
       "   'srcName': 'Mingrui1',\n",
       "   'properties': {'width': 1920, 'height': 1080},\n",
       "   'name': '2023-10-03T00-34-10-861Z-2023-10-03T00:33:55_408Z_WebcamCaptured.jpeg',\n",
       "   'uploadTime': '2024-01-12T21:36:22.474Z',\n",
       "   'mediaStatus': 'approved'},\n",
       "  {'id': 12147972,\n",
       "   'mediaType': 'image',\n",
       "   'srcType': 'user',\n",
       "   'srcName': 'Mingrui1',\n",
       "   'properties': {'width': 1920, 'height': 1080},\n",
       "   'name': '2023-09-22T22-41-48-991Z-2023-08-24T00-24-00-410Z-2023-08-24T00_23_55_091Z_WebcamCaptured.jpeg',\n",
       "   'uploadTime': '2024-01-12T21:36:22.468Z',\n",
       "   'mediaStatus': 'approved'},\n",
       "  {'id': 12147971,\n",
       "   'mediaType': 'image',\n",
       "   'srcType': 'user',\n",
       "   'srcName': 'Mingrui1',\n",
       "   'properties': {'width': 1920, 'height': 1080},\n",
       "   'name': '2023-10-03T00-38-38-059Z-2023-10-03T00:38:27_313Z_WebcamCaptured.jpeg',\n",
       "   'uploadTime': '2024-01-12T21:36:22.428Z',\n",
       "   'mediaStatus': 'approved'},\n",
       "  {'id': 12147970,\n",
       "   'mediaType': 'image',\n",
       "   'srcType': 'user',\n",
       "   'srcName': 'Mingrui1',\n",
       "   'properties': {'width': 1920, 'height': 1080},\n",
       "   'name': '2023-09-28T22-53-27-087Z-2023-09-28T22:53:05_355Z_WebcamCaptured.jpeg',\n",
       "   'uploadTime': '2024-01-12T21:36:22.422Z',\n",
       "   'mediaStatus': 'approved'},\n",
       "  {'id': 12147969,\n",
       "   'mediaType': 'image',\n",
       "   'srcType': 'user',\n",
       "   'srcName': 'Mingrui1',\n",
       "   'properties': {'width': 1920, 'height': 1080},\n",
       "   'name': '2023-10-03T00-32-48-502Z-2023-10-03T00:32:45_326Z_WebcamCaptured.jpeg',\n",
       "   'uploadTime': '2024-01-12T21:36:22.411Z',\n",
       "   'mediaStatus': 'approved'},\n",
       "  {'id': 12147968,\n",
       "   'mediaType': 'image',\n",
       "   'srcType': 'user',\n",
       "   'srcName': 'Mingrui1',\n",
       "   'properties': {'width': 1920, 'height': 1080},\n",
       "   'name': '2023-10-03T00-32-48-619Z-2023-10-03T00:32:42_716Z_WebcamCaptured.jpeg',\n",
       "   'uploadTime': '2024-01-12T21:36:22.399Z',\n",
       "   'mediaStatus': 'approved'},\n",
       "  {'id': 12147967,\n",
       "   'mediaType': 'image',\n",
       "   'srcType': 'user',\n",
       "   'srcName': 'Mingrui1',\n",
       "   'properties': {'width': 1296, 'height': 729},\n",
       "   'name': '2023-09-25T17-17-00-692Z-PERFIL.jpeg',\n",
       "   'uploadTime': '2024-01-12T21:36:22.398Z',\n",
       "   'mediaStatus': 'approved'},\n",
       "  {'id': 12147966,\n",
       "   'mediaType': 'image',\n",
       "   'srcType': 'user',\n",
       "   'srcName': 'Mingrui1',\n",
       "   'properties': {'width': 1920, 'height': 1080},\n",
       "   'name': '2023-10-03T00-34-10-865Z-2023-10-03T00:33:33_528Z_WebcamCaptured.jpeg',\n",
       "   'uploadTime': '2024-01-12T21:36:22.396Z',\n",
       "   'mediaStatus': 'approved'},\n",
       "  {'id': 12147965,\n",
       "   'mediaType': 'image',\n",
       "   'srcType': 'user',\n",
       "   'srcName': 'Mingrui1',\n",
       "   'properties': {'width': 1920, 'height': 1080},\n",
       "   'name': '2023-09-28T22-54-04-818Z-2023-09-28T22:53:52_578Z_WebcamCaptured.jpeg',\n",
       "   'uploadTime': '2024-01-12T21:36:22.392Z',\n",
       "   'mediaStatus': 'approved'},\n",
       "  {'id': 12147962,\n",
       "   'mediaType': 'image',\n",
       "   'srcType': 'user',\n",
       "   'srcName': 'Mingrui1',\n",
       "   'properties': {'width': 1920, 'height': 1080},\n",
       "   'name': '2023-10-03T00-34-10-894Z-2023-10-03T00:34:00_771Z_WebcamCaptured.jpeg',\n",
       "   'uploadTime': '2024-01-12T21:36:22.389Z',\n",
       "   'mediaStatus': 'approved'},\n",
       "  {'id': 12147963,\n",
       "   'mediaType': 'image',\n",
       "   'srcType': 'user',\n",
       "   'srcName': 'Mingrui1',\n",
       "   'properties': {'width': 1920, 'height': 1080},\n",
       "   'name': '2023-10-03T00-31-16-584Z-2023-10-03T00:31:07_439Z_WebcamCaptured.jpeg',\n",
       "   'uploadTime': '2024-01-12T21:36:22.388Z',\n",
       "   'mediaStatus': 'approved'},\n",
       "  {'id': 12147964,\n",
       "   'mediaType': 'image',\n",
       "   'srcType': 'user',\n",
       "   'srcName': 'Mingrui1',\n",
       "   'properties': {'width': 1920, 'height': 1080},\n",
       "   'name': '2023-10-03T00-38-38-106Z-2023-10-03T00:38:34_645Z_WebcamCaptured.jpeg',\n",
       "   'uploadTime': '2024-01-12T21:36:22.386Z',\n",
       "   'mediaStatus': 'approved'},\n",
       "  {'id': 12147960,\n",
       "   'mediaType': 'image',\n",
       "   'srcType': 'user',\n",
       "   'srcName': 'Mingrui1',\n",
       "   'properties': {'width': 1920, 'height': 1080},\n",
       "   'name': '2023-09-22T22-41-48-621Z-2023-08-24T00-21-18-983Z-2023-08-24T00_20_57_890Z_WebcamCaptured.jpeg',\n",
       "   'uploadTime': '2024-01-12T21:36:22.382Z',\n",
       "   'mediaStatus': 'approved'},\n",
       "  {'id': 12147961,\n",
       "   'mediaType': 'image',\n",
       "   'srcType': 'user',\n",
       "   'srcName': 'Mingrui1',\n",
       "   'properties': {'width': 1920, 'height': 1080},\n",
       "   'name': '2023-09-25T16-43-41-838Z-2023-09-25T16:43:38_180Z_WebcamCaptured.jpeg',\n",
       "   'uploadTime': '2024-01-12T21:36:22.381Z',\n",
       "   'mediaStatus': 'approved'},\n",
       "  {'id': 12147959,\n",
       "   'mediaType': 'image',\n",
       "   'srcType': 'user',\n",
       "   'srcName': 'Mingrui1',\n",
       "   'properties': {'width': 1920, 'height': 1080},\n",
       "   'name': '2023-10-03T00-31-16-585Z-2023-10-03T00:30:56_252Z_WebcamCaptured.jpeg',\n",
       "   'uploadTime': '2024-01-12T21:36:22.378Z',\n",
       "   'mediaStatus': 'approved'},\n",
       "  {'id': 12147958,\n",
       "   'mediaType': 'image',\n",
       "   'srcType': 'user',\n",
       "   'srcName': 'Mingrui1',\n",
       "   'properties': {'width': 1920, 'height': 1080},\n",
       "   'name': '2023-09-25T16-30-46-779Z-2023-09-25T16:30:41_975Z_WebcamCaptured.jpeg',\n",
       "   'uploadTime': '2024-01-12T21:36:22.369Z',\n",
       "   'mediaStatus': 'approved'},\n",
       "  {'id': 12147957,\n",
       "   'mediaType': 'image',\n",
       "   'srcType': 'user',\n",
       "   'srcName': 'Mingrui1',\n",
       "   'properties': {'width': 1920, 'height': 1080},\n",
       "   'name': '2023-09-25T16-43-41-828Z-2023-09-25T16:43:22_312Z_WebcamCaptured.jpeg',\n",
       "   'uploadTime': '2024-01-12T21:36:22.362Z',\n",
       "   'mediaStatus': 'approved'},\n",
       "  {'id': 12147956,\n",
       "   'mediaType': 'image',\n",
       "   'srcType': 'user',\n",
       "   'srcName': 'Mingrui1',\n",
       "   'properties': {'width': 1920, 'height': 1080},\n",
       "   'name': '2023-09-25T16-30-31-216Z-2023-09-25T16:30:22_197Z_WebcamCaptured.jpeg',\n",
       "   'uploadTime': '2024-01-12T21:36:22.353Z',\n",
       "   'mediaStatus': 'approved'},\n",
       "  {'id': 12147955,\n",
       "   'mediaType': 'image',\n",
       "   'srcType': 'user',\n",
       "   'srcName': 'Mingrui1',\n",
       "   'properties': {'width': 1296, 'height': 729},\n",
       "   'name': '2023-09-25T17-17-00-691Z-FRENTE.jpeg',\n",
       "   'uploadTime': '2024-01-12T21:36:22.343Z',\n",
       "   'mediaStatus': 'approved'}],\n",
       " 'num_requested': 1000,\n",
       " 'count': 20,\n",
       " 'offset': 0,\n",
       " 'limit': 1000}"
      ]
     },
     "execution_count": 5,
     "metadata": {},
     "output_type": "execute_result"
    }
   ],
   "source": [
    "media_client.ls()"
   ]
  },
  {
   "cell_type": "code",
   "execution_count": 8,
   "id": "cc273a10-1d7e-4853-8a70-698735a01555",
   "metadata": {},
   "outputs": [
    {
     "name": "stdout",
     "output_type": "stream",
     "text": [
      "This event loop is already running\n"
     ]
    },
    {
     "name": "stderr",
     "output_type": "stream",
     "text": [
      "/var/folders/g5/l8n_9nts18bcbxyx73_689pr0000gn/T/ipykernel_95685/1624189613.py:1: RuntimeWarning: coroutine '_upload_media_pictor' was never awaited\n",
      "  media_client.upload(\"/Users/mingruizhang-landing/Desktop/dillion1.jpg\")\n",
      "RuntimeWarning: Enable tracemalloc to get the object allocation traceback\n"
     ]
    },
    {
     "data": {
      "text/plain": [
       "{'num_uploaded': 0,\n",
       " 'skipped_count': 0,\n",
       " 'error_count': 1,\n",
       " 'medias': [],\n",
       " 'files_with_errors': {'dillion1.jpg': 'This event loop is already running'}}"
      ]
     },
     "execution_count": 8,
     "metadata": {},
     "output_type": "execute_result"
    }
   ],
   "source": [
    "media_client.upload(\"/Users/mingruizhang-landing/Desktop/dillion1.jpg\")"
   ]
  },
  {
   "cell_type": "code",
   "execution_count": 9,
   "id": "c0b03fb1-a0b9-411b-8221-59896021be02",
   "metadata": {},
   "outputs": [],
   "source": [
    "load_ext autoreload"
   ]
  },
  {
   "cell_type": "code",
   "execution_count": 10,
   "id": "0bd82f6f-eac7-4809-a9f1-1b8cb3978020",
   "metadata": {},
   "outputs": [],
   "source": [
    "autoreload 2"
   ]
  },
  {
   "cell_type": "code",
   "execution_count": 1,
   "id": "48338cf3-022b-49be-9781-0e19b192163d",
   "metadata": {},
   "outputs": [
    {
     "ename": "NameError",
     "evalue": "name 'media_client' is not defined",
     "output_type": "error",
     "traceback": [
      "\u001b[0;31m---------------------------------------------------------------------------\u001b[0m",
      "\u001b[0;31mNameError\u001b[0m                                 Traceback (most recent call last)",
      "\u001b[0;32m/var/folders/g5/l8n_9nts18bcbxyx73_689pr0000gn/T/ipykernel_96069/1624189613.py\u001b[0m in \u001b[0;36m<module>\u001b[0;34m\u001b[0m\n\u001b[0;32m----> 1\u001b[0;31m \u001b[0mmedia_client\u001b[0m\u001b[0;34m.\u001b[0m\u001b[0mupload\u001b[0m\u001b[0;34m(\u001b[0m\u001b[0;34m\"/Users/mingruizhang-landing/Desktop/dillion1.jpg\"\u001b[0m\u001b[0;34m)\u001b[0m\u001b[0;34m\u001b[0m\u001b[0;34m\u001b[0m\u001b[0m\n\u001b[0m",
      "\u001b[0;31mNameError\u001b[0m: name 'media_client' is not defined"
     ]
    }
   ],
   "source": [
    "media_client.upload(\"/Users/mingruizhang-landing/Desktop/dillion1.jpg\")"
   ]
  },
  {
   "cell_type": "code",
   "execution_count": null,
   "id": "9a075b35-4a7c-4991-93eb-2de8e0e3c6e7",
   "metadata": {},
   "outputs": [],
   "source": []
  }
 ],
 "metadata": {
  "kernelspec": {
   "display_name": "Python 3 (ipykernel)",
   "language": "python",
   "name": "python3"
  },
  "language_info": {
   "codemirror_mode": {
    "name": "ipython",
    "version": 3
   },
   "file_extension": ".py",
   "mimetype": "text/x-python",
   "name": "python",
   "nbconvert_exporter": "python",
   "pygments_lexer": "ipython3",
   "version": "3.9.7"
  }
 },
 "nbformat": 4,
 "nbformat_minor": 5
}
