{
 "cells": [
  {
   "attachments": {},
   "cell_type": "markdown",
   "metadata": {},
   "source": [
    "# Using video analytics to manage inventory\n",
    "\n",
    "This example shows how an object detection model can be used to identify products on display directly from a video recording. Some of the applications of this approach could be:\n",
    "1. Counting stock of a certain SKU\n",
    "2. Detecting if a SKU is missing from the display\n",
    "3. Auditing the amount of shelf space assigned to each SKU\n",
    "\n",
    "As part of this notebook we also showcase the SDK ability to create a vision pipeline that consumes data directly from Google Drive"
   ]
  },
  {
   "cell_type": "markdown",
   "metadata": {},
   "source": [
    "## Setup Landing AI SDK"
   ]
  },
  {
   "cell_type": "code",
   "execution_count": 4,
   "metadata": {},
   "outputs": [],
   "source": [
    "api_key       = \"land_sk_aMemWbpd41yXnQ0tXvZMh59ISgRuKNRKjJEIUHnkiH32NBJAwf\" \n",
    "endpoint_id   = \"067ce386-3958-4d98-be31-9a9af07e361a\"\n",
    "video_file    = \"https://drive.google.com/uc?export=download&id=12I5r1siMRzcejuFxI-izRshBtmWRmVxQ\"\n",
    "\n",
    "# Install Landing AI's SDK only if needed to avoid unnecessary restarts\n",
    "try:\n",
    "  import landingai\n",
    "except ImportError:\n",
    "  import os\n",
    "  from IPython.display import display, Markdown\n",
    "  display(Markdown(\"## Installing modules. You will need to restart runtime.\"))\n",
    "  !pip install landingai\n",
    "  display(Markdown(\"## Please restart runtime.\"))"
   ]
  },
  {
   "cell_type": "markdown",
   "metadata": {},
   "source": [
    "## Run analytics over the video\n",
    "In this example, the predictor will identify the presence of one type of candy (i.e. \"Alfajor\"). This example also shows how we can speed up the process by sampling video frames. In this case the video was recorded at 30 FPS but we will only analyze 2 per second."
   ]
  },
  {
   "cell_type": "code",
   "execution_count": null,
   "metadata": {},
   "outputs": [],
   "source": [
    "import landingai.pipeline as pl\n",
    "from landingai.predict import Predictor, EdgePredictor\n",
    "\n",
    "video_source = pl.image_source.VideoFile(video_file, samples_per_second=2) # Sample only 2 frames per second\n",
    "products_model = Predictor(endpoint_id, api_key=api_key)\n",
    "\n",
    "frs = pl.FrameSet()\n",
    "for frame in video_source:\n",
    "    frs.extend(\n",
    "        frame.run_predict(predictor=products_model)\n",
    "        .overlay_predictions()\n",
    "    )\n",
    "frs.save_video(\"./out.mp4\", image_src=\"overlay\", video_fps=video_source.properties()[2])\n",
    "display(\"Done processing\")"
   ]
  },
  {
   "cell_type": "markdown",
   "metadata": {},
   "source": [
    "## Show results"
   ]
  },
  {
   "cell_type": "code",
   "execution_count": 8,
   "metadata": {},
   "outputs": [
    {
     "data": {
      "text/html": [
       "<video src=\"./out.mp4\" controls  >\n",
       "      Your browser does not support the <code>video</code> element.\n",
       "    </video>"
      ],
      "text/plain": [
       "<IPython.core.display.Video object>"
      ]
     },
     "execution_count": 8,
     "metadata": {},
     "output_type": "execute_result"
    }
   ],
   "source": [
    "from landingai.notebook_utils import display_video\n",
    "display_video(\"./out.mp4\")"
   ]
  }
 ],
 "metadata": {
  "kernelspec": {
   "display_name": "Python 3 (ipykernel)",
   "language": "python",
   "name": "python3"
  },
  "language_info": {
   "codemirror_mode": {
    "name": "ipython",
    "version": 3
   },
   "file_extension": ".py",
   "mimetype": "text/x-python",
   "name": "python",
   "nbconvert_exporter": "python",
   "pygments_lexer": "ipython3",
   "version": "3.11.4"
  },
  "vscode": {
   "interpreter": {
    "hash": "d4d1e4263499bec80672ea0156c357c1ee493ec2b1c70f0acce89fc37c4a6abe"
   }
  }
 },
 "nbformat": 4,
 "nbformat_minor": 2
}
