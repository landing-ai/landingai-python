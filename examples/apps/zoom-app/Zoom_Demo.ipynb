{
 "cells": [
  {
   "cell_type": "code",
   "execution_count": null,
   "id": "35b5d573-1892-4cb5-a76c-5c04bd3625b2",
   "metadata": {},
   "outputs": [],
   "source": [
    "from landingai.pipeline.image_source import NetworkedCamera\n",
    "from landingai.predict import Predictor\n",
    "from landingai.image_source_ops import take_photo_from_webcam\n",
    "from landingai.visualize import overlay_bboxes"
   ]
  },
  {
   "cell_type": "code",
   "execution_count": null,
   "id": "d0777efc",
   "metadata": {},
   "outputs": [],
   "source": [
    "# Using the SDK for Inference\n",
    "# ===========================\n",
    "\n",
    "# Put your own API Key and Endpoint ID here\n",
    "api_key = \"land_sk_JkygHlib8SgryZUgumM6r8GWYfQqiKdE36xDzo4K85fDihpnuG\"\n",
    "endpoint_id = \"7e8c1f16-947f-45cd-9f5d-c5bdf8791126\""
   ]
  },
  {
   "cell_type": "code",
   "execution_count": null,
   "id": "8232a76a",
   "metadata": {},
   "outputs": [],
   "source": [
    "# Build the predictor object for your model\n",
    "model = Predictor(endpoint_id, api_key=api_key)"
   ]
  },
  {
   "cell_type": "code",
   "execution_count": null,
   "id": "13828949",
   "metadata": {},
   "outputs": [],
   "source": [
    "# Grab a frame frome your webcam and run predict on it\n",
    "image = take_photo_from_webcam()\n",
    "prediction = model.predict(image)\n",
    "overlay_bboxes(prediction, image)"
   ]
  },
  {
   "cell_type": "code",
   "execution_count": null,
   "id": "07e2035e",
   "metadata": {},
   "outputs": [],
   "source": [
    "# Additional SDK features\n",
    "# =======================\n",
    "\n",
    "from landingai.pipeline.frameset import FrameSet\n",
    "\n",
    "# Run inference on a single image\n",
    "frs = FrameSet.from_image(\"image.jpg\")\n",
    "frs.run_predict(predictor=model).overlay_predictions().show_image().show_image(image_src=\"overlay\")"
   ]
  },
  {
   "cell_type": "code",
   "execution_count": null,
   "id": "c418e677",
   "metadata": {},
   "outputs": [],
   "source": [
    "from landingai.data_management import Media\n",
    "\n",
    "project_id = 45412657190923\n",
    "\n",
    "# List images\n",
    "media_client = Media(project_id, api_key)\n",
    "media_client.ls(offset=0, limit=2)"
   ]
  },
  {
   "cell_type": "code",
   "execution_count": null,
   "id": "d1cf29ca",
   "metadata": {},
   "outputs": [],
   "source": [
    "# This code is needed to run asyncio loops in jupyter notebooks, it is not needed if\n",
    "# you are running python from the terminal.\n",
    "import nest_asyncio\n",
    "nest_asyncio.apply()\n",
    "\n",
    "# Upload image, make sure you have an image in your local directory called image.jpg\n",
    "media_client.upload(\"image.jpg\", split=\"dev\")"
   ]
  }
 ],
 "metadata": {
  "kernelspec": {
   "display_name": "Python 3 (ipykernel)",
   "language": "python",
   "name": "python3"
  },
  "language_info": {
   "codemirror_mode": {
    "name": "ipython",
    "version": 3
   },
   "file_extension": ".py",
   "mimetype": "text/x-python",
   "name": "python",
   "nbconvert_exporter": "python",
   "pygments_lexer": "ipython3",
   "version": "3.10.11"
  }
 },
 "nbformat": 4,
 "nbformat_minor": 5
}
