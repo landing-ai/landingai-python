{
 "cells": [
  {
   "cell_type": "code",
   "execution_count": 1,
   "metadata": {},
   "outputs": [
    {
     "ename": "NameError",
     "evalue": "name 'clear_output' is not defined",
     "output_type": "error",
     "traceback": [
      "\u001b[0;31m---------------------------------------------------------------------------\u001b[0m",
      "\u001b[0;31mNameError\u001b[0m                                 Traceback (most recent call last)",
      "Cell \u001b[0;32mIn[1], line 19\u001b[0m\n\u001b[1;32m     10\u001b[0m Camera \u001b[39m=\u001b[39m NetworkedCamera(\n\u001b[1;32m     11\u001b[0m     stream_url, capture_interval\u001b[39m=\u001b[39m_CAPTURE_INTERVAL\n\u001b[1;32m     12\u001b[0m )\n\u001b[1;32m     14\u001b[0m \u001b[39mfor\u001b[39;00m frame \u001b[39min\u001b[39;00m Camera:\n\u001b[1;32m     15\u001b[0m     (\n\u001b[1;32m     16\u001b[0m         frame\u001b[39m.\u001b[39;49mdownsize(width\u001b[39m=\u001b[39;49m\u001b[39m1024\u001b[39;49m)\n\u001b[1;32m     17\u001b[0m         \u001b[39m# .run_predict(predictor=cloud_sky_model)\u001b[39;49;00m\n\u001b[1;32m     18\u001b[0m         \u001b[39m# .overlay_predictions()\u001b[39;49;00m\n\u001b[0;32m---> 19\u001b[0m         \u001b[39m.\u001b[39;49mshow_image(clear_nb_cell\u001b[39m=\u001b[39;49m\u001b[39mTrue\u001b[39;49;00m)\n\u001b[1;32m     20\u001b[0m     )\n",
      "File \u001b[0;32m~/repos/landingai-python/landingai/vision_pipeline.py:216\u001b[0m, in \u001b[0;36mFrameSet.show_image\u001b[0;34m(self, image_src, clear_nb_cell)\u001b[0m\n\u001b[1;32m    213\u001b[0m \u001b[39mfrom\u001b[39;00m \u001b[39mIPython\u001b[39;00m \u001b[39mimport\u001b[39;00m display\n\u001b[1;32m    215\u001b[0m \u001b[39mfor\u001b[39;00m frame \u001b[39min\u001b[39;00m \u001b[39mself\u001b[39m\u001b[39m.\u001b[39mframes:\n\u001b[0;32m--> 216\u001b[0m     \u001b[39mif\u001b[39;00m clear_output:\n\u001b[1;32m    217\u001b[0m         display\u001b[39m.\u001b[39mclear_output(wait\u001b[39m=\u001b[39m\u001b[39mTrue\u001b[39;00m)\n\u001b[1;32m    218\u001b[0m     \u001b[39mif\u001b[39;00m image_src \u001b[39m==\u001b[39m \u001b[39m\"\u001b[39m\u001b[39m\"\u001b[39m:\n",
      "\u001b[0;31mNameError\u001b[0m: name 'clear_output' is not defined"
     ]
    }
   ],
   "source": [
    "from landingai.predict import Predictor\n",
    "from landingai.vision_pipeline import NetworkedCamera\n",
    "\n",
    "stream_url = \"https://live.hdontap.com/hls/hosb1/topanga_swellmagnet.stream/playlist.m3u8\"\n",
    "\n",
    "\n",
    "_CAPTURE_INTERVAL = 1000 # In milliseconds. Set to 1 if you want to capture at the max prediction rate\n",
    "\n",
    "# cloud_sky_model = Predictor(endpoint_id, api_key, api_secret)\n",
    "Camera = NetworkedCamera(\n",
    "    stream_url, capture_interval=_CAPTURE_INTERVAL\n",
    ")\n",
    "\n",
    "for frame in Camera:\n",
    "    (\n",
    "        frame.downsize(width=1024)\n",
    "        # .run_predict(predictor=cloud_sky_model)\n",
    "        # .overlay_predictions()\n",
    "        .show_image(clear_nb_cell=True)\n",
    "    )\n"
   ]
  }
 ],
 "metadata": {
  "kernelspec": {
   "display_name": ".venv",
   "language": "python",
   "name": "python3"
  },
  "language_info": {
   "codemirror_mode": {
    "name": "ipython",
    "version": 3
   },
   "file_extension": ".py",
   "mimetype": "text/x-python",
   "name": "python",
   "nbconvert_exporter": "python",
   "pygments_lexer": "ipython3",
   "version": "3.11.4"
  },
  "orig_nbformat": 4
 },
 "nbformat": 4,
 "nbformat_minor": 2
}
